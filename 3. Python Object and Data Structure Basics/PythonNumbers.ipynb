{
 "metadata": {
  "language_info": {
   "codemirror_mode": {
    "name": "ipython",
    "version": 3
   },
   "file_extension": ".py",
   "mimetype": "text/x-python",
   "name": "python",
   "nbconvert_exporter": "python",
   "pygments_lexer": "ipython3",
   "version": "3.8.8"
  },
  "orig_nbformat": 4,
  "kernelspec": {
   "name": "python3",
   "display_name": "Python 3.8.8 64-bit ('base': conda)"
  },
  "interpreter": {
   "hash": "ebdea5d4e29057bcd5e3e6f7cca32b51402eb7c201942b5252928d0afa39b356"
  }
 },
 "nbformat": 4,
 "nbformat_minor": 2,
 "cells": [
  {
   "cell_type": "code",
   "execution_count": 35,
   "metadata": {},
   "outputs": [
    {
     "output_type": "execute_result",
     "data": {
      "text/plain": [
       "7"
      ]
     },
     "metadata": {},
     "execution_count": 35
    }
   ],
   "source": [
    "# addition\n",
    "1+6"
   ]
  },
  {
   "cell_type": "code",
   "execution_count": 36,
   "metadata": {},
   "outputs": [
    {
     "output_type": "execute_result",
     "data": {
      "text/plain": [
       "4"
      ]
     },
     "metadata": {},
     "execution_count": 36
    }
   ],
   "source": [
    "# subtraction\n",
    "9-5"
   ]
  },
  {
   "cell_type": "code",
   "execution_count": 37,
   "metadata": {},
   "outputs": [
    {
     "output_type": "execute_result",
     "data": {
      "text/plain": [
       "12"
      ]
     },
     "metadata": {},
     "execution_count": 37
    }
   ],
   "source": [
    "# multiplication\n",
    "3*4"
   ]
  },
  {
   "cell_type": "code",
   "execution_count": 38,
   "metadata": {},
   "outputs": [
    {
     "output_type": "execute_result",
     "data": {
      "text/plain": [
       "1.6"
      ]
     },
     "metadata": {},
     "execution_count": 38
    }
   ],
   "source": [
    "# division\n",
    "8/5"
   ]
  },
  {
   "source": [
    "\"mod\" operator can be used to check if a number is divisible by another number. This is a convient check when you want to see if a number is even or not.\n",
    "\n",
    "If a number prints anything above 0, it means the number is odd."
   ],
   "cell_type": "markdown",
   "metadata": {}
  },
  {
   "cell_type": "code",
   "execution_count": 21,
   "metadata": {},
   "outputs": [
    {
     "output_type": "execute_result",
     "data": {
      "text/plain": [
       "3"
      ]
     },
     "metadata": {},
     "execution_count": 21
    }
   ],
   "source": [
    "# modulo or \"mod\" operator - returns back remainder after division\n",
    "\n",
    "8 % 5\n",
    "\n",
    "# 8/5 has a remainder of 3, therefore the 3 is printed when using the \"mod\" operator"
   ]
  },
  {
   "cell_type": "code",
   "execution_count": 16,
   "metadata": {},
   "outputs": [
    {
     "output_type": "execute_result",
     "data": {
      "text/plain": [
       "0"
      ]
     },
     "metadata": {},
     "execution_count": 16
    }
   ],
   "source": [
    "# modulo or \"mod\" operator - returns back remainder after division\n",
    "\n",
    "30 % 3\n",
    "\n",
    "# 30/3 divides evenly, therefore the 0 is printed when using the \"mod\" operator"
   ]
  },
  {
   "cell_type": "code",
   "execution_count": 30,
   "metadata": {},
   "outputs": [
    {
     "output_type": "execute_result",
     "data": {
      "text/plain": [
       "1"
      ]
     },
     "metadata": {},
     "execution_count": 30
    }
   ],
   "source": [
    "# modulo or \"mod\" operator - returns back remainder after division\n",
    "# testing to see if 27 is an even or odd number\n",
    "\n",
    "27 % 2\n",
    "\n",
    "# result prints higher than 0, therefore, 27 is an odd number"
   ]
  },
  {
   "cell_type": "code",
   "execution_count": 31,
   "metadata": {},
   "outputs": [
    {
     "output_type": "execute_result",
     "data": {
      "text/plain": [
       "0"
      ]
     },
     "metadata": {},
     "execution_count": 31
    }
   ],
   "source": [
    "# modulo or \"mod\" operator - returns back remainder after division\n",
    "# testing to see if 60 is an even or odd number\n",
    "\n",
    "60 % 2\n",
    "\n",
    "# result prints 0, therefore, 60 is an even number"
   ]
  },
  {
   "source": [
    "# exponents\n",
    "7 ** 3"
   ],
   "cell_type": "code",
   "metadata": {},
   "execution_count": 32,
   "outputs": [
    {
     "output_type": "execute_result",
     "data": {
      "text/plain": [
       "343"
      ]
     },
     "metadata": {},
     "execution_count": 32
    }
   ]
  },
  {
   "cell_type": "code",
   "execution_count": 33,
   "metadata": {},
   "outputs": [
    {
     "output_type": "execute_result",
     "data": {
      "text/plain": [
       "268"
      ]
     },
     "metadata": {},
     "execution_count": 33
    }
   ],
   "source": [
    "# order of operations (BIMDAS)\n",
    "9 + 17 * 15 + 4"
   ]
  },
  {
   "cell_type": "code",
   "execution_count": 34,
   "metadata": {},
   "outputs": [
    {
     "output_type": "execute_result",
     "data": {
      "text/plain": [
       "494"
      ]
     },
     "metadata": {},
     "execution_count": 34
    }
   ],
   "source": [
    " # order of operations (BIMDAS)\n",
    " (9 + 17) * (15 + 4)"
   ]
  }
 ]
}