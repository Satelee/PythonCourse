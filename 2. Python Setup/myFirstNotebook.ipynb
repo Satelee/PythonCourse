{
 "metadata": {
  "language_info": {
   "codemirror_mode": {
    "name": "ipython",
    "version": 3
   },
   "file_extension": ".py",
   "mimetype": "text/x-python",
   "name": "python",
   "nbconvert_exporter": "python",
   "pygments_lexer": "ipython3",
   "version": "3.8.5"
  },
  "orig_nbformat": 2,
  "kernelspec": {
   "name": "python385jvsc74a57bd0ebdea5d4e29057bcd5e3e6f7cca32b51402eb7c201942b5252928d0afa39b356",
   "display_name": "Python 3.8.5 64-bit ('base': conda)"
  }
 },
 "nbformat": 4,
 "nbformat_minor": 2,
 "cells": [
  {
   "cell_type": "code",
   "execution_count": 1,
   "metadata": {},
   "outputs": [
    {
     "output_type": "stream",
     "name": "stdout",
     "text": [
      "hello world.\n"
     ]
    }
   ],
   "source": [
    "print('hello world.')"
   ]
  },
  {
   "source": [
    "print(\"nice to meet you!\")"
   ],
   "cell_type": "code",
   "metadata": {},
   "execution_count": 4,
   "outputs": [
    {
     "output_type": "stream",
     "name": "stdout",
     "text": [
      "nice to meet you!\n"
     ]
    }
   ]
  },
  {
   "source": [
    "When you change the cell to a markdown, you can leave notes throughout the file."
   ],
   "cell_type": "markdown",
   "metadata": {}
  }
 ]
}